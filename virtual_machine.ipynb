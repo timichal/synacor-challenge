{
 "cells": [
  {
   "cell_type": "code",
   "execution_count": 9,
   "metadata": {},
   "outputs": [],
   "source": [
    "from collections import defaultdict"
   ]
  },
  {
   "cell_type": "code",
   "execution_count": 10,
   "metadata": {
    "tags": []
   },
   "outputs": [],
   "source": [
    "instructions = []\n",
    "with open(\"challenge.bin\", \"rb\") as file:\n",
    "    byte_pair = file.read(2)\n",
    "    while byte_pair:\n",
    "        instruction = int(''.join([format(int(byte), \"b\").zfill(8) for byte in reversed(list(byte_pair))]), base=2)\n",
    "        instructions.append(instruction)\n",
    "        byte_pair = file.read(2)"
   ]
  },
  {
   "cell_type": "code",
   "execution_count": 21,
   "metadata": {},
   "outputs": [
    {
     "output_type": "stream",
     "name": "stdout",
     "text": [
      "Welcome to the Synacor Challenge!\nPlease record your progress by putting codes like\nthis one into the challenge website: XsvExotGpufK\n\nExecuting self-test...\n\n5\n32770\n32769\n32768\n5\n32770\n32768\n32769\nno gt op\n"
     ]
    }
   ],
   "source": [
    "register = defaultdict(int) # 32768..32775 mean registers 0..7\n",
    "stack = []\n",
    "position = 0\n",
    "while True:\n",
    "    instruction = instructions[position]\n",
    "    a = instructions[position + 1] \n",
    "    b = instructions[position + 2] \n",
    "    c = instructions[position + 3]\n",
    "\n",
    "    #print(instruction, position, \", \", end=\"\")\n",
    "\n",
    "    if instruction == 0: # halt\n",
    "        break\n",
    "    elif instruction == 1: # set a b\n",
    "        register[a] = b\n",
    "        position += 3\n",
    "    elif instruction == 2: # push a\n",
    "        if 32768 <= a <= 32775:\n",
    "            a = register[a]\n",
    "        stack.append(a)\n",
    "        position += 2\n",
    "    elif instruction == 3: # pop a (remove the top element from the stack and write it into <a>)\n",
    "        register[a] = stack.pop()\n",
    "        position += 2\n",
    "    elif instruction == 4: # eq a b c (set <a> to 1 if <b> is equal to <c>; set it to 0 otherwise)\n",
    "        if 32768 <= b <= 32775:\n",
    "            b = register[b]\n",
    "        if 32768 <= c <= 32775:\n",
    "            c = register[c]\n",
    "        if (b == c):\n",
    "            register[a] = 1\n",
    "        else:\n",
    "            register[a] = 0\n",
    "        position += 4\n",
    "    elif instruction == 6: # jmp a\n",
    "        position = a\n",
    "    elif instruction == 7: # jt a b (jump if nonzero)\n",
    "        if 32768 <= a <= 32775:\n",
    "            a = register[a]\n",
    "        \n",
    "        if a != 0:\n",
    "            position = b\n",
    "        else:\n",
    "            position += 3\n",
    "    elif instruction == 8: # jf a b (jump if zero)\n",
    "        if 32768 <= a <= 32775:\n",
    "            a = register[a]\n",
    "                    \n",
    "        if a == 0:\n",
    "            position = b\n",
    "        else:\n",
    "            position += 3\n",
    "    elif instruction == 9: # add a b c\n",
    "        if 32768 <= b <= 32775:\n",
    "            b = register[b]\n",
    "        if 32768 <= c <= 32775:\n",
    "            c = register[c]\n",
    "        register[a] = (b + c) % 32768\n",
    "        position += 4\n",
    "    elif instruction == 19: # out a\n",
    "        print(chr(a), end=\"\")\n",
    "        position += 2\n",
    "    elif instruction == 21: # noop\n",
    "        position += 1\n",
    "    else: # skip the rest for now\n",
    "        print(instruction)\n",
    "        position += 1"
   ]
  },
  {
   "cell_type": "code",
   "execution_count": null,
   "metadata": {},
   "outputs": [],
   "source": []
  }
 ],
 "metadata": {
  "kernelspec": {
   "name": "python380jvsc74a57bd0da735371025b5791196fced77b841d741481e895036af75e9330b79f8b45714e",
   "display_name": "Python 3.8.0 64-bit"
  },
  "language_info": {
   "codemirror_mode": {
    "name": "ipython",
    "version": 3
   },
   "file_extension": ".py",
   "mimetype": "text/x-python",
   "name": "python",
   "nbconvert_exporter": "python",
   "pygments_lexer": "ipython3",
   "version": "3.8.0"
  },
  "metadata": {
   "interpreter": {
    "hash": "da735371025b5791196fced77b841d741481e895036af75e9330b79f8b45714e"
   }
  }
 },
 "nbformat": 4,
 "nbformat_minor": 4
}